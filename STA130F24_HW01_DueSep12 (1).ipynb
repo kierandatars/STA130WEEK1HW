{
 "cells": [
  {
   "cell_type": "markdown",
   "id": "aaad910f",
   "metadata": {},
   "source": [
    "# STA130 Week 01 Homework \n",
    "\n",
    "Please see the course [wiki-textbook](https://github.com/pointOfive/stat130chat130/wiki) for the list of topics covered in this homework assignment, and a list of topics that might appear during ChatBot conversations which are \"out of scope\" for the purposes of this homework assignment (and hence can be safely ignored if encountered)\n"
   ]
  },
  {
   "cell_type": "markdown",
   "id": "5aede3d7",
   "metadata": {},
   "source": [
    "<details class=\"details-example\"><summary style=\"color:blue\"><u>Introduction</u></summary>\n",
    "\n",
    "### Introduction\n",
    "    \n",
    "A reasonable characterization of STA130 Homework is that it simply defines a weekly reading comprehension assignment. \n",
    "Indeed, STA130 Homework essentially boils down to completing various understanding confirmation exercises oriented around coding and writing tasks.\n",
    "However, rather than reading a textbook, STA130 Homework is based on ChatBots so students can interactively follow up to clarify questions or confusion that they may still have regarding learning objective assignments.\n",
    "\n",
    "> Communication is a fundamental skill underlying statistics and data science, so STA130 Homework based on ChatBots helps practice effective two-way communication as part of a \"realistic\" dialogue activity supporting underlying conceptual understanding building. \n",
    "\n",
    "It will likely become increasingly tempting to rely on ChatBots to \"do the work for you\". But when you find yourself frustrated with a ChatBots inability to give you the results you're looking for, this is a \"hint\" that you've become overreliant on the ChatBots. Your objective should not be to have ChatBots \"do the work for you\", but to use ChatBots to help you build your understanding so you can efficiently leverage ChatBots (and other resources) to help you work more efficiently.<br><br>\n",
    "\n",
    "</details>\n",
    "\n",
    "<details class=\"details-example\"><summary style=\"color:blue\"><u>Instructions</u></summary>\n",
    "\n",
    "### Instructions\n",
    "    \n",
    "1. Code and write all your answers (for both the \"Prelecture\" and \"Postlecture\" HW) in a python notebook (in code and markdown cells) \n",
    "    \n",
    "> It is *suggested but not mandatory* that you complete the \"Prelecture\" HW prior to the Monday LEC since (a) all HW is due at the same time; but, (b) completing some of the HW early will mean better readiness for LEC and less of a \"procrastentation cruch\" towards the end of the week...\n",
    "    \n",
    "2. Paste summaries of your ChatBot sessions (including link(s) to chat log histories if you're using ChatGPT) within your notebook\n",
    "    \n",
    "> Create summaries of your ChatBot sessions by using concluding prompts such as \"Please provide a summary of our exchanges here so I can submit them as a record of our interactions as part of a homework assignment\" or, \"Please provide me with the final working verson of the code that we created together\"\n",
    "    \n",
    "3. Save your python jupyter notebook in your own account and \"repo\" on [github.com](github.com) and submit a link to that notebook though Quercus for assignment marking<br><br>\n",
    "\n",
    "</details>\n",
    "\n",
    "<details class=\"details-example\"><summary style=\"color:blue\"><u>Prompt Engineering?</u></summary>\n",
    "\n",
    "### Prompt Engineering?    \n",
    "    \n",
    "The questions (as copy-pasted prompts) are designed to initialize appropriate ChatBot conversations which can be explored in the manner of an interactive and dynamic textbook; but, it is nonetheless **strongly recommendated** that your rephrase the questions in a way that you find natural to ensure a clear understanding of the question. Given sensible prompts the represent a question well, the two primary challenges observed to arise from ChatBots are \n",
    "\n",
    "1. conversations going beyond the intended scope of the material addressed by the question; and, \n",
    "2. unrecoverable confusion as a result of sequential layers logial inquiry that cannot be resolved. \n",
    "\n",
    "In the case of the former (1), adding constraints specifying the limits of considerations of interest tends to be helpful; whereas, the latter (2) is often the result of initial prompting that leads to poor developments in navigating the material, which are likely just best resolve by a \"hard reset\" with a new initial approach to prompting.  Indeed, this is exactly the behavior [hardcoded into copilot](https://answers.microsoft.com/en-us/bing/forum/all/is-this-even-normal/0b6dcab3-7d6c-4373-8efe-d74158af3c00)...\n",
    "\n",
    "</details>"
   ]
  },
  {
   "cell_type": "markdown",
   "id": "77293b06",
   "metadata": {},
   "source": [
    "\n",
    "### Marking Rubric (which may award partial credit) \n",
    "\n",
    "- [0.1 points]: All relevant ChatBot summaries [including link(s) to chat log histories if you're using ChatGPT] are reported within the notebook\n",
    "- [0.2 points]: Reasonable well-written general definitions for Question \"2.2\"\n",
    "- [0.3 points]: Demonstrated understanding regarding Question \"4\"\n",
    "<!-- - [0.2 points]: A sensible justification for the choice in Question \"7.4\" -->\n",
    "- [0.4 points]: Requested assessment of ChatBot versus google performance in Question \"8.3\"\n"
   ]
  },
  {
   "cell_type": "markdown",
   "id": "16c531a1",
   "metadata": {},
   "source": [
    "## \"Pre-lecture\" HW [*completion prior to next LEC is suggested but not mandatory*]"
   ]
  },
  {
   "cell_type": "markdown",
   "id": "1bd98d51",
   "metadata": {},
   "source": [
    "#### 1. Pick one of the datasets from the ChatBot session(s) of the **TUT demo** (or from your own ChatBot session if you wish) and use the code produced through the ChatBot interactions to import the data and confirm that the dataset has missing values<br>\n",
    "\n",
    "<details class=\"details-example\"><summary style=\"color:blue\"><u>Further Guidance</u></summary>\n",
    "\n",
    "> If your TA has not shared a relevant ChatBot session from their **TUT demo** through a piazza post and a Quercus announcement, the **TUT notebook** has links to example ChatBot sessions that you can use; or, ...\n",
    "> \n",
    "> ```python\n",
    "> # feel free to just use the following if you prefer...\n",
    "> import pandas as pd\n",
    "> url = \"https://raw.githubusercontent.com/rfordatascience/tidytuesday/master/data/2020/2020-05-05/villagers.csv\"\n",
    "> df = pd.read_csv(url)\n",
    "> df.isna().sum()\n",
    "> ```\n",
    "    \n",
    "</details>"
   ]
  },
  {
   "cell_type": "code",
   "execution_count": 3,
   "id": "e229f701",
   "metadata": {},
   "outputs": [
    {
     "data": {
      "text/plain": [
       "Title            0\n",
       "Author           1\n",
       "List Price       1\n",
       "Amazon Price     0\n",
       "Hard_or_Paper    0\n",
       "NumPages         2\n",
       "Publisher        1\n",
       "Pub year         1\n",
       "ISBN-10          0\n",
       "Height           4\n",
       "Width            5\n",
       "Thick            1\n",
       "Weight_oz        9\n",
       "dtype: int64"
      ]
     },
     "execution_count": 3,
     "metadata": {},
     "output_type": "execute_result"
    }
   ],
   "source": [
    "import pandas as pd\n",
    "url = \"https://raw.githubusercontent.com/pointOfive/STA130_F23/main/Data/amazonbooks.csv\"\n",
    "df = pd.read_csv(url, encoding='ISO-8859-1')\n",
    "df.isna().sum()"
   ]
  },
  {
   "cell_type": "markdown",
   "id": "0946c6c5",
   "metadata": {},
   "source": [
    "#### 2. Start a new ChatBot session with an initial prompt introducing the dataset you're using and request help to determine how many columns and rows of data a `pandas` DataFrame has, and then\n",
    "\n",
    "1. use code provided in your ChatBot session to print out the number of rows and columns of the dataset; and,  \n",
    "2. write your own general definitions of the meaning of \"observations\" and \"variables\" based on asking the ChatBot to explain these terms in the context of your dataset<br>\n",
    "\n",
    "<details class=\"details-example\"><summary style=\"color:blue\"><u>Further Guidance</u></summary>\n",
    "\n",
    "> A good initial prompt to start would be be something like\n",
    "> - \"I've downloaded a dataset about characters from animal crossings (from https://raw.githubusercontent.com/rfordatascience/tidytuesday/master/data/2020/2020-05-05/villagers.csv), and I'd like to know what columns of information I have and how much data I have\"\n",
    "> \n",
    "> You can further reduce the scope of your inquiry with if needed with something like\n",
    "> - \"I've already downloaded the data and want to understand the size (or dimensions) of the dataset to start with\"\n",
    "> \n",
    "> *Some ChatBots can upload your data and do this for you; but, extended usage of this feature [likely requires a paid subscription](https://github.com/pointOfive/stat130chat130/blob/main/CHATLOG/wk1/GPT/SLS/00006_gpt3p5_LoadDataPaywall.md); and, anyway, you need to run the code yourself rather than having a ChatBot do that for you; and, for STA130 we don't want a ChatBot to just do the analysis for us; rather, we instead want ChatBots to help us understand the steps we need to take to analyze the data; so,* **you DO NOT need to purchase an upgraded version of any ChatBots**\n",
    "> - Free-tier level ChatBots like [GPT4o-mini](https://chat.openai.com/) or [Copilot](https://copilot.microsoft.com/) (which is partially based on [ChatGPT4.0](https://chat.openai.com/), and which you have access to through your UofT account) are sufficiently sophisticated and perfectly appropriate for the STA130 course\n",
    "    \n",
    "</details>"
   ]
  },
  {
   "cell_type": "code",
   "execution_count": 4,
   "id": "a2c4459c",
   "metadata": {},
   "outputs": [
    {
     "name": "stdout",
     "output_type": "stream",
     "text": [
      "Rows: 325, Columns: 13\n"
     ]
    }
   ],
   "source": [
    "rows, columns = df.shape\n",
    "print(f\"Rows: {rows}, Columns: {columns}\")"
   ]
  },
  {
   "cell_type": "code",
   "execution_count": null,
   "id": "cbcc917b",
   "metadata": {},
   "outputs": [],
   "source": [
    "In the context of this dataset: the rows are obervations, in which they are typically a single entry. In this dataset it represents a specific book. With the row containing data about that book.\n",
    "Variables are columuns, where each column represeents a measurable attribute or propetry that is recorded. These could be book title, author, genre, rating, price etc."
   ]
  },
  {
   "cell_type": "markdown",
   "id": "8d75cd96",
   "metadata": {},
   "source": [
    "#### 3. Ask the ChatBot how you can provide simple summaries of the columns in the dataset and use the suggested code to provide these summaries for your dataset<br>\n",
    "\n",
    "<details class=\"details-example\"><summary style=\"color:blue\"><u>Further Guidance</u></summary>\n",
    "\n",
    "> Use your ChatBot session to help you create working examples of using  `df.describe()` and `df['column'].value_counts()` for your dataset (although note that the `.value_counts()` method is not really meant to be used for numeric variables, so if you dataset has only numeric variables, `.value_counts()` might not be particularly informative...)\n",
    ">\n",
    "> #### ChatBot Response Scope \n",
    ">     \n",
    "> If prompts are not sufficiently focused you will likely get overly broad responses from the ChatBot, but you can always respond with subsequent refinement requests to appropriately limit the scope of the ChatBot responses to focus on addressing your actual content targets; so, \n",
    "> - an initially very general inquiry like, \"I need help analyzing my data\" will likely result in a ChatBot response suggesting a wide variety of approaches and techniques for summarizing your dataset; but, re-prompting the ChatBot with something like, \"What's the simplest form of summarization of this dataset that I could do and how do I do it in Python?\" or suggesting guidance using the specific summarization methods requested above will helpfully re-orient the ChatBot to your specific interests and needs\n",
    "> \n",
    "> #### Jupyter Notebook Hints\n",
    "> \n",
    "> Jupyter notebook printouts usaully don't show all of the data (when there's too much to show, like if `df.describe()` includes results for many columns), but the printouts just show enough of the data to give an idea of what the results are which is all we're looking for at the moment\n",
    "> \n",
    "> - Consider dividing the code that ChatBot provides you into different jupyter notebook cells so that each cell concludes with a key printed result; the last line of code in a jupyter notebook cell will automatically print out in a formatted manner, so replacing something like `print(df.head())` with `df.head()` as the last line of a cell provides a sensible way to organize your code\n",
    "> - The printout suggestions above are demonstrated in `STA130F24_CourseProject.ipynb` if looking at an example would be helpful to understand what they're getting at...\n",
    "    \n",
    "</details>"
   ]
  },
  {
   "cell_type": "code",
   "execution_count": 7,
   "id": "04e36266",
   "metadata": {},
   "outputs": [
    {
     "data": {
      "text/html": [
       "<div>\n",
       "<style scoped>\n",
       "    .dataframe tbody tr th:only-of-type {\n",
       "        vertical-align: middle;\n",
       "    }\n",
       "\n",
       "    .dataframe tbody tr th {\n",
       "        vertical-align: top;\n",
       "    }\n",
       "\n",
       "    .dataframe thead th {\n",
       "        text-align: right;\n",
       "    }\n",
       "</style>\n",
       "<table border=\"1\" class=\"dataframe\">\n",
       "  <thead>\n",
       "    <tr style=\"text-align: right;\">\n",
       "      <th></th>\n",
       "      <th>List Price</th>\n",
       "      <th>Amazon Price</th>\n",
       "      <th>NumPages</th>\n",
       "      <th>Pub year</th>\n",
       "      <th>Height</th>\n",
       "      <th>Width</th>\n",
       "      <th>Thick</th>\n",
       "      <th>Weight_oz</th>\n",
       "    </tr>\n",
       "  </thead>\n",
       "  <tbody>\n",
       "    <tr>\n",
       "      <th>count</th>\n",
       "      <td>324.000000</td>\n",
       "      <td>325.000000</td>\n",
       "      <td>323.000000</td>\n",
       "      <td>324.000000</td>\n",
       "      <td>321.000000</td>\n",
       "      <td>320.000000</td>\n",
       "      <td>324.000000</td>\n",
       "      <td>316.000000</td>\n",
       "    </tr>\n",
       "    <tr>\n",
       "      <th>mean</th>\n",
       "      <td>18.579753</td>\n",
       "      <td>13.333846</td>\n",
       "      <td>335.857585</td>\n",
       "      <td>2002.206790</td>\n",
       "      <td>8.163240</td>\n",
       "      <td>5.585000</td>\n",
       "      <td>0.907716</td>\n",
       "      <td>12.487975</td>\n",
       "    </tr>\n",
       "    <tr>\n",
       "      <th>std</th>\n",
       "      <td>14.252829</td>\n",
       "      <td>13.727679</td>\n",
       "      <td>161.984389</td>\n",
       "      <td>10.629002</td>\n",
       "      <td>0.918739</td>\n",
       "      <td>0.874057</td>\n",
       "      <td>0.368625</td>\n",
       "      <td>6.644648</td>\n",
       "    </tr>\n",
       "    <tr>\n",
       "      <th>min</th>\n",
       "      <td>1.500000</td>\n",
       "      <td>0.770000</td>\n",
       "      <td>24.000000</td>\n",
       "      <td>1936.000000</td>\n",
       "      <td>5.100000</td>\n",
       "      <td>4.100000</td>\n",
       "      <td>0.100000</td>\n",
       "      <td>1.200000</td>\n",
       "    </tr>\n",
       "    <tr>\n",
       "      <th>25%</th>\n",
       "      <td>13.950000</td>\n",
       "      <td>8.600000</td>\n",
       "      <td>208.000000</td>\n",
       "      <td>1998.000000</td>\n",
       "      <td>7.900000</td>\n",
       "      <td>5.200000</td>\n",
       "      <td>0.600000</td>\n",
       "      <td>7.800000</td>\n",
       "    </tr>\n",
       "    <tr>\n",
       "      <th>50%</th>\n",
       "      <td>15.000000</td>\n",
       "      <td>10.200000</td>\n",
       "      <td>320.000000</td>\n",
       "      <td>2005.000000</td>\n",
       "      <td>8.100000</td>\n",
       "      <td>5.400000</td>\n",
       "      <td>0.900000</td>\n",
       "      <td>11.200000</td>\n",
       "    </tr>\n",
       "    <tr>\n",
       "      <th>75%</th>\n",
       "      <td>19.950000</td>\n",
       "      <td>13.130000</td>\n",
       "      <td>416.000000</td>\n",
       "      <td>2010.000000</td>\n",
       "      <td>8.500000</td>\n",
       "      <td>5.900000</td>\n",
       "      <td>1.100000</td>\n",
       "      <td>16.000000</td>\n",
       "    </tr>\n",
       "    <tr>\n",
       "      <th>max</th>\n",
       "      <td>139.950000</td>\n",
       "      <td>139.950000</td>\n",
       "      <td>896.000000</td>\n",
       "      <td>2011.000000</td>\n",
       "      <td>12.100000</td>\n",
       "      <td>9.500000</td>\n",
       "      <td>2.100000</td>\n",
       "      <td>35.200000</td>\n",
       "    </tr>\n",
       "  </tbody>\n",
       "</table>\n",
       "</div>"
      ],
      "text/plain": [
       "       List Price  Amazon Price    NumPages     Pub year      Height  \\\n",
       "count  324.000000    325.000000  323.000000   324.000000  321.000000   \n",
       "mean    18.579753     13.333846  335.857585  2002.206790    8.163240   \n",
       "std     14.252829     13.727679  161.984389    10.629002    0.918739   \n",
       "min      1.500000      0.770000   24.000000  1936.000000    5.100000   \n",
       "25%     13.950000      8.600000  208.000000  1998.000000    7.900000   \n",
       "50%     15.000000     10.200000  320.000000  2005.000000    8.100000   \n",
       "75%     19.950000     13.130000  416.000000  2010.000000    8.500000   \n",
       "max    139.950000    139.950000  896.000000  2011.000000   12.100000   \n",
       "\n",
       "            Width       Thick   Weight_oz  \n",
       "count  320.000000  324.000000  316.000000  \n",
       "mean     5.585000    0.907716   12.487975  \n",
       "std      0.874057    0.368625    6.644648  \n",
       "min      4.100000    0.100000    1.200000  \n",
       "25%      5.200000    0.600000    7.800000  \n",
       "50%      5.400000    0.900000   11.200000  \n",
       "75%      5.900000    1.100000   16.000000  \n",
       "max      9.500000    2.100000   35.200000  "
      ]
     },
     "execution_count": 7,
     "metadata": {},
     "output_type": "execute_result"
    }
   ],
   "source": [
    "df.describe() #numeric columns \n",
    "\n",
    "\n"
   ]
  },
  {
   "cell_type": "code",
   "execution_count": 8,
   "id": "3091dfab",
   "metadata": {},
   "outputs": [
    {
     "data": {
      "text/html": [
       "<div>\n",
       "<style scoped>\n",
       "    .dataframe tbody tr th:only-of-type {\n",
       "        vertical-align: middle;\n",
       "    }\n",
       "\n",
       "    .dataframe tbody tr th {\n",
       "        vertical-align: top;\n",
       "    }\n",
       "\n",
       "    .dataframe thead th {\n",
       "        text-align: right;\n",
       "    }\n",
       "</style>\n",
       "<table border=\"1\" class=\"dataframe\">\n",
       "  <thead>\n",
       "    <tr style=\"text-align: right;\">\n",
       "      <th></th>\n",
       "      <th>Title</th>\n",
       "      <th>Author</th>\n",
       "      <th>List Price</th>\n",
       "      <th>Amazon Price</th>\n",
       "      <th>Hard_or_Paper</th>\n",
       "      <th>NumPages</th>\n",
       "      <th>Publisher</th>\n",
       "      <th>Pub year</th>\n",
       "      <th>ISBN-10</th>\n",
       "      <th>Height</th>\n",
       "      <th>Width</th>\n",
       "      <th>Thick</th>\n",
       "      <th>Weight_oz</th>\n",
       "    </tr>\n",
       "  </thead>\n",
       "  <tbody>\n",
       "    <tr>\n",
       "      <th>count</th>\n",
       "      <td>325</td>\n",
       "      <td>324</td>\n",
       "      <td>324.000000</td>\n",
       "      <td>325.000000</td>\n",
       "      <td>325</td>\n",
       "      <td>323.000000</td>\n",
       "      <td>324</td>\n",
       "      <td>324.000000</td>\n",
       "      <td>325</td>\n",
       "      <td>321.000000</td>\n",
       "      <td>320.000000</td>\n",
       "      <td>324.000000</td>\n",
       "      <td>316.000000</td>\n",
       "    </tr>\n",
       "    <tr>\n",
       "      <th>unique</th>\n",
       "      <td>315</td>\n",
       "      <td>255</td>\n",
       "      <td>NaN</td>\n",
       "      <td>NaN</td>\n",
       "      <td>2</td>\n",
       "      <td>NaN</td>\n",
       "      <td>161</td>\n",
       "      <td>NaN</td>\n",
       "      <td>322</td>\n",
       "      <td>NaN</td>\n",
       "      <td>NaN</td>\n",
       "      <td>NaN</td>\n",
       "      <td>NaN</td>\n",
       "    </tr>\n",
       "    <tr>\n",
       "      <th>top</th>\n",
       "      <td>The Great Gatsby</td>\n",
       "      <td>Jodi Picoult</td>\n",
       "      <td>NaN</td>\n",
       "      <td>NaN</td>\n",
       "      <td>P</td>\n",
       "      <td>NaN</td>\n",
       "      <td>Vintage</td>\n",
       "      <td>NaN</td>\n",
       "      <td>743273567</td>\n",
       "      <td>NaN</td>\n",
       "      <td>NaN</td>\n",
       "      <td>NaN</td>\n",
       "      <td>NaN</td>\n",
       "    </tr>\n",
       "    <tr>\n",
       "      <th>freq</th>\n",
       "      <td>3</td>\n",
       "      <td>7</td>\n",
       "      <td>NaN</td>\n",
       "      <td>NaN</td>\n",
       "      <td>236</td>\n",
       "      <td>NaN</td>\n",
       "      <td>37</td>\n",
       "      <td>NaN</td>\n",
       "      <td>2</td>\n",
       "      <td>NaN</td>\n",
       "      <td>NaN</td>\n",
       "      <td>NaN</td>\n",
       "      <td>NaN</td>\n",
       "    </tr>\n",
       "    <tr>\n",
       "      <th>mean</th>\n",
       "      <td>NaN</td>\n",
       "      <td>NaN</td>\n",
       "      <td>18.579753</td>\n",
       "      <td>13.333846</td>\n",
       "      <td>NaN</td>\n",
       "      <td>335.857585</td>\n",
       "      <td>NaN</td>\n",
       "      <td>2002.206790</td>\n",
       "      <td>NaN</td>\n",
       "      <td>8.163240</td>\n",
       "      <td>5.585000</td>\n",
       "      <td>0.907716</td>\n",
       "      <td>12.487975</td>\n",
       "    </tr>\n",
       "    <tr>\n",
       "      <th>std</th>\n",
       "      <td>NaN</td>\n",
       "      <td>NaN</td>\n",
       "      <td>14.252829</td>\n",
       "      <td>13.727679</td>\n",
       "      <td>NaN</td>\n",
       "      <td>161.984389</td>\n",
       "      <td>NaN</td>\n",
       "      <td>10.629002</td>\n",
       "      <td>NaN</td>\n",
       "      <td>0.918739</td>\n",
       "      <td>0.874057</td>\n",
       "      <td>0.368625</td>\n",
       "      <td>6.644648</td>\n",
       "    </tr>\n",
       "    <tr>\n",
       "      <th>min</th>\n",
       "      <td>NaN</td>\n",
       "      <td>NaN</td>\n",
       "      <td>1.500000</td>\n",
       "      <td>0.770000</td>\n",
       "      <td>NaN</td>\n",
       "      <td>24.000000</td>\n",
       "      <td>NaN</td>\n",
       "      <td>1936.000000</td>\n",
       "      <td>NaN</td>\n",
       "      <td>5.100000</td>\n",
       "      <td>4.100000</td>\n",
       "      <td>0.100000</td>\n",
       "      <td>1.200000</td>\n",
       "    </tr>\n",
       "    <tr>\n",
       "      <th>25%</th>\n",
       "      <td>NaN</td>\n",
       "      <td>NaN</td>\n",
       "      <td>13.950000</td>\n",
       "      <td>8.600000</td>\n",
       "      <td>NaN</td>\n",
       "      <td>208.000000</td>\n",
       "      <td>NaN</td>\n",
       "      <td>1998.000000</td>\n",
       "      <td>NaN</td>\n",
       "      <td>7.900000</td>\n",
       "      <td>5.200000</td>\n",
       "      <td>0.600000</td>\n",
       "      <td>7.800000</td>\n",
       "    </tr>\n",
       "    <tr>\n",
       "      <th>50%</th>\n",
       "      <td>NaN</td>\n",
       "      <td>NaN</td>\n",
       "      <td>15.000000</td>\n",
       "      <td>10.200000</td>\n",
       "      <td>NaN</td>\n",
       "      <td>320.000000</td>\n",
       "      <td>NaN</td>\n",
       "      <td>2005.000000</td>\n",
       "      <td>NaN</td>\n",
       "      <td>8.100000</td>\n",
       "      <td>5.400000</td>\n",
       "      <td>0.900000</td>\n",
       "      <td>11.200000</td>\n",
       "    </tr>\n",
       "    <tr>\n",
       "      <th>75%</th>\n",
       "      <td>NaN</td>\n",
       "      <td>NaN</td>\n",
       "      <td>19.950000</td>\n",
       "      <td>13.130000</td>\n",
       "      <td>NaN</td>\n",
       "      <td>416.000000</td>\n",
       "      <td>NaN</td>\n",
       "      <td>2010.000000</td>\n",
       "      <td>NaN</td>\n",
       "      <td>8.500000</td>\n",
       "      <td>5.900000</td>\n",
       "      <td>1.100000</td>\n",
       "      <td>16.000000</td>\n",
       "    </tr>\n",
       "    <tr>\n",
       "      <th>max</th>\n",
       "      <td>NaN</td>\n",
       "      <td>NaN</td>\n",
       "      <td>139.950000</td>\n",
       "      <td>139.950000</td>\n",
       "      <td>NaN</td>\n",
       "      <td>896.000000</td>\n",
       "      <td>NaN</td>\n",
       "      <td>2011.000000</td>\n",
       "      <td>NaN</td>\n",
       "      <td>12.100000</td>\n",
       "      <td>9.500000</td>\n",
       "      <td>2.100000</td>\n",
       "      <td>35.200000</td>\n",
       "    </tr>\n",
       "  </tbody>\n",
       "</table>\n",
       "</div>"
      ],
      "text/plain": [
       "                   Title        Author  List Price  Amazon Price  \\\n",
       "count                325           324  324.000000    325.000000   \n",
       "unique               315           255         NaN           NaN   \n",
       "top     The Great Gatsby  Jodi Picoult         NaN           NaN   \n",
       "freq                   3             7         NaN           NaN   \n",
       "mean                 NaN           NaN   18.579753     13.333846   \n",
       "std                  NaN           NaN   14.252829     13.727679   \n",
       "min                  NaN           NaN    1.500000      0.770000   \n",
       "25%                  NaN           NaN   13.950000      8.600000   \n",
       "50%                  NaN           NaN   15.000000     10.200000   \n",
       "75%                  NaN           NaN   19.950000     13.130000   \n",
       "max                  NaN           NaN  139.950000    139.950000   \n",
       "\n",
       "       Hard_or_Paper    NumPages Publisher     Pub year    ISBN-10  \\\n",
       "count            325  323.000000       324   324.000000        325   \n",
       "unique             2         NaN       161          NaN        322   \n",
       "top                P         NaN   Vintage          NaN  743273567   \n",
       "freq             236         NaN        37          NaN          2   \n",
       "mean             NaN  335.857585       NaN  2002.206790        NaN   \n",
       "std              NaN  161.984389       NaN    10.629002        NaN   \n",
       "min              NaN   24.000000       NaN  1936.000000        NaN   \n",
       "25%              NaN  208.000000       NaN  1998.000000        NaN   \n",
       "50%              NaN  320.000000       NaN  2005.000000        NaN   \n",
       "75%              NaN  416.000000       NaN  2010.000000        NaN   \n",
       "max              NaN  896.000000       NaN  2011.000000        NaN   \n",
       "\n",
       "            Height       Width       Thick   Weight_oz  \n",
       "count   321.000000  320.000000  324.000000  316.000000  \n",
       "unique         NaN         NaN         NaN         NaN  \n",
       "top            NaN         NaN         NaN         NaN  \n",
       "freq           NaN         NaN         NaN         NaN  \n",
       "mean      8.163240    5.585000    0.907716   12.487975  \n",
       "std       0.918739    0.874057    0.368625    6.644648  \n",
       "min       5.100000    4.100000    0.100000    1.200000  \n",
       "25%       7.900000    5.200000    0.600000    7.800000  \n",
       "50%       8.100000    5.400000    0.900000   11.200000  \n",
       "75%       8.500000    5.900000    1.100000   16.000000  \n",
       "max      12.100000    9.500000    2.100000   35.200000  "
      ]
     },
     "execution_count": 8,
     "metadata": {},
     "output_type": "execute_result"
    }
   ],
   "source": [
    "df.describe(include='all') #including non-numeric columns"
   ]
  },
  {
   "cell_type": "code",
   "execution_count": 9,
   "id": "03ccaf64",
   "metadata": {},
   "outputs": [
    {
     "data": {
      "text/plain": [
       "Title             object\n",
       "Author            object\n",
       "List Price       float64\n",
       "Amazon Price     float64\n",
       "Hard_or_Paper     object\n",
       "NumPages         float64\n",
       "Publisher         object\n",
       "Pub year         float64\n",
       "ISBN-10           object\n",
       "Height           float64\n",
       "Width            float64\n",
       "Thick            float64\n",
       "Weight_oz        float64\n",
       "dtype: object"
      ]
     },
     "execution_count": 9,
     "metadata": {},
     "output_type": "execute_result"
    }
   ],
   "source": [
    "df.dtypes #column data types"
   ]
  },
  {
   "cell_type": "code",
   "execution_count": 10,
   "id": "2d72e877",
   "metadata": {},
   "outputs": [
    {
     "data": {
      "text/plain": [
       "Title            0\n",
       "Author           1\n",
       "List Price       1\n",
       "Amazon Price     0\n",
       "Hard_or_Paper    0\n",
       "NumPages         2\n",
       "Publisher        1\n",
       "Pub year         1\n",
       "ISBN-10          0\n",
       "Height           4\n",
       "Width            5\n",
       "Thick            1\n",
       "Weight_oz        9\n",
       "dtype: int64"
      ]
     },
     "execution_count": 10,
     "metadata": {},
     "output_type": "execute_result"
    }
   ],
   "source": [
    "df.isna().sum() #missing values in each column"
   ]
  },
  {
   "cell_type": "markdown",
   "id": "19b50547",
   "metadata": {},
   "source": [
    "#### 4. If the dataset you're using has (a) non-numeric variables and (b) missing values in numeric variables, explain (perhaps using help from a ChatBot if needed) the discrepancies between size of the dataset given by `df.shape` and what is reported by `df.describe()` with respect to (a) the number of columns it analyzes and (b) the values it reports in the \"count\" column<br>\n",
    "\n",
    "<details class=\"details-example\"><summary style=\"color:blue\"><u>Further Guidance</u></summary>\n",
    "\n",
    "> If the dataset you're using does not have (a) non-numeric variables and (b) missing values in numeric variables (e.g., the `\"villagers.csv\"` example above has only a single numeric variable `row_n` which has no missing values), instead download and use the [https://raw.githubusercontent.com/mwaskom/seaborn-data/master/titanic.csv](https://raw.githubusercontent.com/mwaskom/seaborn-data/master/titanic.csv)\" data to answer this question  \n",
    ">\n",
    "> In (a) above, the \"columns it analyzes\" refers to the columns of the output of `df.describe()` which will only include \"numeric\" columns by default, but you can can see the names of all the columns in a dataset using `df.columns`; and, make sure `df.shape` is refering to the dataset you think it is... if you've loaded a different dataset it might not have been called `df`(!)\n",
    ">\n",
    "> **If you get any errors (for example related to column names), copy and paste them as a response to the ChatBot, and see if it can help you resove them by adding the suggested adjustments to your code and then reruning all your code to see if the changes have fixed the problem (and repeat this process as needed until the problems have been resolved).**\n",
    "    \n",
    "</details>"
   ]
  },
  {
   "cell_type": "markdown",
   "id": "fa8cc949",
   "metadata": {},
   "source": [
    "#### 5. Use your ChatBot session to help understand the difference between the following and then provide your own paraphrasing summarization of that difference\n",
    "\n",
    "- an \"attribute\", such as `df.shape` which does not end with `()`\n",
    "- and a \"method\", such as `df.describe()` which does end with `()` \n",
    "   \n",
    "\n",
    "<details class=\"details-example\"><summary style=\"color:blue\"><u>Further Guidance</u></summary>\n",
    "\n",
    "> The fact that a \"method\" such as `df.describe()` ends with `()` suggests that \"methods\" are essentially something that we would call a \"function\" in programming language terminology; but, without getting too technical or \"in the weeds\", it might also be worth considering that we could also contrast what the difference is between a \"function\" in a programming language versus a \"function\" in mathematics...  \n",
    "    \n",
    "</details><br><br>\n",
    "\n",
    "***Don't forget to ask for summaries of your ChatBot session(s) and paste these into your homework notebook (including link(s) to chat log histories if you're using ChatGPT)!***<br><br>"
   ]
  },
  {
   "cell_type": "markdown",
   "id": "5ea57fbf",
   "metadata": {},
   "source": [
    "<details class=\"details-example\"><summary style=\"color:blue\"><u>Continue now...?</u></summary>\n",
    "\n",
    "### Prelecture VS Postlecture HW\n",
    "    \n",
    "Feel free to work on the \"Postlecture\" HW below if you're making good progress and want to continue: in this case this is particularly reasonable as questions \"6\" and \"7\" below directly follow up and extend the \"Prelecture\" HW questions\n",
    "\n",
    "*The benefits of continue would are that (a) it might be fun to try to tackle the challenge of working through some problems without additional preparation or guidance; and (b) this is a very valable skill to be comfortable with; and (c) it will let you build experience interacting with ChatBots (and beginning to understand their strengths and limitations in this regard)... it's good to have sense of when using a ChatBot is the best way to figure something out, or if another approach (such as course provided resources or a plain old websearch for the right resourse) would be more effective*\n",
    "    \n",
    "</details>    \n"
   ]
  },
  {
   "cell_type": "markdown",
   "id": "ac9eb766",
   "metadata": {},
   "source": [
    "## \"Post-lecture\" HW [*submission along with \"Pre-lecture\" HW is due prior to next TUT*]"
   ]
  },
  {
   "cell_type": "markdown",
   "id": "c6521eff",
   "metadata": {},
   "source": [
    "#### 6. The `df.describe()` method provides the 'count', 'mean', 'std', 'min', '25%', '50%', '75%', and 'max' summary statistics for each variable it analyzes. Give the definitions (perhaps using help from the ChatBot if needed) of each of these summary statistics<br>\n",
    "\n",
    "<details class=\"details-example\"><summary style=\"color:blue\"><u>Further Guidance</u></summary>\n",
    "\n",
    "> The answers here actually make it obvious why these can only be calculated for numeric variables in a dataset, which should help explain the answer to \"4(a)\" and \"4(b)\" above\n",
    ">   \n",
    "> Also notice that when `df.describe()` is used missing values are not explicitly removed, but `df.describe()`  provides answers anyway. Is it clear what `df.describe()` does with the data in each columns it analyzes if there is missing data in the column in question? \n",
    ">\n",
    "> The next questions addresses removing rows or columns from a dataset in order to explicitly remove the presense of any missingness in the dataset (assuming we're not going to fill in any missing data values using any missing data imputation methods, which are beyond the scope of STA130); so, the behavior of `df.describe()` hints that explicitly removing missing may not always be necessary; but, the concern, though, is that not all methods may be able to handle missing data the way `df.describe()` does...\n",
    "    \n",
    "</details>"
   ]
  },
  {
   "cell_type": "code",
   "execution_count": 9,
   "id": "956bb557",
   "metadata": {},
   "outputs": [],
   "source": [
    "import pandas as pd\n",
    "url = \"https://raw.githubusercontent.com/pointOfive/STA130_F23/main/Data/amazonbooks.csv\"\n",
    "df = pd.read_csv(url, encoding='ISO-8859-1')"
   ]
  },
  {
   "cell_type": "code",
   "execution_count": 11,
   "id": "3f45eca0",
   "metadata": {},
   "outputs": [
    {
     "data": {
      "text/html": [
       "<div>\n",
       "<style scoped>\n",
       "    .dataframe tbody tr th:only-of-type {\n",
       "        vertical-align: middle;\n",
       "    }\n",
       "\n",
       "    .dataframe tbody tr th {\n",
       "        vertical-align: top;\n",
       "    }\n",
       "\n",
       "    .dataframe thead th {\n",
       "        text-align: right;\n",
       "    }\n",
       "</style>\n",
       "<table border=\"1\" class=\"dataframe\">\n",
       "  <thead>\n",
       "    <tr style=\"text-align: right;\">\n",
       "      <th></th>\n",
       "      <th>List Price</th>\n",
       "      <th>Amazon Price</th>\n",
       "      <th>NumPages</th>\n",
       "      <th>Pub year</th>\n",
       "      <th>Height</th>\n",
       "      <th>Width</th>\n",
       "      <th>Thick</th>\n",
       "      <th>Weight_oz</th>\n",
       "    </tr>\n",
       "  </thead>\n",
       "  <tbody>\n",
       "    <tr>\n",
       "      <th>count</th>\n",
       "      <td>324.000000</td>\n",
       "      <td>325.000000</td>\n",
       "      <td>323.000000</td>\n",
       "      <td>324.000000</td>\n",
       "      <td>321.000000</td>\n",
       "      <td>320.000000</td>\n",
       "      <td>324.000000</td>\n",
       "      <td>316.000000</td>\n",
       "    </tr>\n",
       "    <tr>\n",
       "      <th>mean</th>\n",
       "      <td>18.579753</td>\n",
       "      <td>13.333846</td>\n",
       "      <td>335.857585</td>\n",
       "      <td>2002.206790</td>\n",
       "      <td>8.163240</td>\n",
       "      <td>5.585000</td>\n",
       "      <td>0.907716</td>\n",
       "      <td>12.487975</td>\n",
       "    </tr>\n",
       "    <tr>\n",
       "      <th>std</th>\n",
       "      <td>14.252829</td>\n",
       "      <td>13.727679</td>\n",
       "      <td>161.984389</td>\n",
       "      <td>10.629002</td>\n",
       "      <td>0.918739</td>\n",
       "      <td>0.874057</td>\n",
       "      <td>0.368625</td>\n",
       "      <td>6.644648</td>\n",
       "    </tr>\n",
       "    <tr>\n",
       "      <th>min</th>\n",
       "      <td>1.500000</td>\n",
       "      <td>0.770000</td>\n",
       "      <td>24.000000</td>\n",
       "      <td>1936.000000</td>\n",
       "      <td>5.100000</td>\n",
       "      <td>4.100000</td>\n",
       "      <td>0.100000</td>\n",
       "      <td>1.200000</td>\n",
       "    </tr>\n",
       "    <tr>\n",
       "      <th>25%</th>\n",
       "      <td>13.950000</td>\n",
       "      <td>8.600000</td>\n",
       "      <td>208.000000</td>\n",
       "      <td>1998.000000</td>\n",
       "      <td>7.900000</td>\n",
       "      <td>5.200000</td>\n",
       "      <td>0.600000</td>\n",
       "      <td>7.800000</td>\n",
       "    </tr>\n",
       "    <tr>\n",
       "      <th>50%</th>\n",
       "      <td>15.000000</td>\n",
       "      <td>10.200000</td>\n",
       "      <td>320.000000</td>\n",
       "      <td>2005.000000</td>\n",
       "      <td>8.100000</td>\n",
       "      <td>5.400000</td>\n",
       "      <td>0.900000</td>\n",
       "      <td>11.200000</td>\n",
       "    </tr>\n",
       "    <tr>\n",
       "      <th>75%</th>\n",
       "      <td>19.950000</td>\n",
       "      <td>13.130000</td>\n",
       "      <td>416.000000</td>\n",
       "      <td>2010.000000</td>\n",
       "      <td>8.500000</td>\n",
       "      <td>5.900000</td>\n",
       "      <td>1.100000</td>\n",
       "      <td>16.000000</td>\n",
       "    </tr>\n",
       "    <tr>\n",
       "      <th>max</th>\n",
       "      <td>139.950000</td>\n",
       "      <td>139.950000</td>\n",
       "      <td>896.000000</td>\n",
       "      <td>2011.000000</td>\n",
       "      <td>12.100000</td>\n",
       "      <td>9.500000</td>\n",
       "      <td>2.100000</td>\n",
       "      <td>35.200000</td>\n",
       "    </tr>\n",
       "  </tbody>\n",
       "</table>\n",
       "</div>"
      ],
      "text/plain": [
       "       List Price  Amazon Price    NumPages     Pub year      Height  \\\n",
       "count  324.000000    325.000000  323.000000   324.000000  321.000000   \n",
       "mean    18.579753     13.333846  335.857585  2002.206790    8.163240   \n",
       "std     14.252829     13.727679  161.984389    10.629002    0.918739   \n",
       "min      1.500000      0.770000   24.000000  1936.000000    5.100000   \n",
       "25%     13.950000      8.600000  208.000000  1998.000000    7.900000   \n",
       "50%     15.000000     10.200000  320.000000  2005.000000    8.100000   \n",
       "75%     19.950000     13.130000  416.000000  2010.000000    8.500000   \n",
       "max    139.950000    139.950000  896.000000  2011.000000   12.100000   \n",
       "\n",
       "            Width       Thick   Weight_oz  \n",
       "count  320.000000  324.000000  316.000000  \n",
       "mean     5.585000    0.907716   12.487975  \n",
       "std      0.874057    0.368625    6.644648  \n",
       "min      4.100000    0.100000    1.200000  \n",
       "25%      5.200000    0.600000    7.800000  \n",
       "50%      5.400000    0.900000   11.200000  \n",
       "75%      5.900000    1.100000   16.000000  \n",
       "max      9.500000    2.100000   35.200000  "
      ]
     },
     "execution_count": 11,
     "metadata": {},
     "output_type": "execute_result"
    }
   ],
   "source": [
    "df.describe()"
   ]
  },
  {
   "cell_type": "markdown",
   "id": "d5cfbfc2",
   "metadata": {},
   "source": [
    "The count is the number of non-mising values in each column. Shows how many valid data entries exist. \n",
    "The mean is the average of all values in the column. Calucated by the sum of all non-missing values divided by the count of non-missing values.\\\n",
    "STD (Standard Deviation) is that measure of the amount of variation or disperon of the values in the column. It tells how spread out the values are around the mean. A higher STD incidates more variaiblity. \n",
    "The minimum is the smallest value in the column.\n",
    "25%: The first quartile meaning 25 percent of the data entries are below this value.\n",
    "50%: The median which means that half of the data entire points are below and half are above.\n",
    "75%: The third quartile meaning 25% of values are above.\n",
    "The Max: The maximum or largest value in the column. "
   ]
  },
  {
   "cell_type": "markdown",
   "id": "251b5e94",
   "metadata": {},
   "source": [
    "#### 7. Missing data can be considered \"across rows\" or \"down columns\".  Consider how `df.dropna()` or `del df['col']` should be applied to most efficiently use the available non-missing data in your dataset and briefly answer the following questions in your own words\n",
    "\n",
    "1. Provide an example of a \"use case\" in which using `df.dropna()` might be peferred over using `del df['col']`<br><br>\n",
    "    \n",
    "2. Provide an example of \"the opposite use case\" in which using `del df['col']` might be preferred over using `df.dropna()` <br><br>\n",
    "    \n",
    "3. Discuss why applying `del df['col']` before `df.dropna()` when both are used together could be important<br><br>\n",
    "    \n",
    "4. Remove all missing data from one of the datasets you're considering using some combination of `del df['col']` and/or `df.dropna()` and give a justification for your approach, including a \"before and after\" report of the results of your approach for your dataset.<br><br>\n",
    "\n",
    "<details class=\"details-example\"><summary style=\"color:blue\"><u>Further Guidance</u></summary>\n",
    "\n",
    "> Start a new ChatBot session **[but remember to first ask your ChatBot for summaries of your current session and perhaps coding results (so you can supply these in the homework as requested)]**, since your last ChatBot session has likely gotten quite long and has covered a lot of material at this point \n",
    "> - It can sometimes be helpful to reset ChatBot sessions to refocus them on the topics of inquiry without too much backlog history that might unintentionally bias things in certain directions and, of course, you can always re-introduce material from earlier conversations as it's relevant, such as for answering \"D\" based on reintroducing and updating code you made in a previous ChatBot session.  \n",
    "> \n",
    "> #### ChatBot Scope Guidance\n",
    "> \n",
    "> - This question is not interested in the general benefits of imputing missing data, or the general benefits of using `df.dropna()` and/or `del df['col']` to remove missing data, just how to most efficiently remove missing data if a user chooses to do so\n",
    "> \n",
    "> - More sophisticated analyses for \"filling in\" rather than removing missing data (as considered here) are possible (based on making assumptions about missing data and using specific imputation methods or models) but these are \"beyond the scope\" of this homework assignment so this topics can be safely ignored for now\n",
    "> \n",
    "> #### ChatBot Code Troubleshooting\n",
    "> \n",
    "> A key issue to be aware of when asking ChatBots for help with something is that they are not running and checking code for correctess, and they often intertwine written instructions with code instructions; so, BEFORE YOU RUN ANY CODE provided by a ChatBot, you should check the following\n",
    "> \n",
    "> 1. If this code changes an object or data, are you sure you want to run this code?\n",
    "> 2. Can you easily \"undo\" the results of running code (e.g., from a copy `df_saved=df.copy()` or reloading the data) if running the code doesn't do what you want?\n",
    "> 3. Is the state of the data what is expected by the code? Or have the objects been updated and changed so they're no longer what the code expects them to be? \n",
    "> \n",
    "> #### If you get any `Python` errors, copy and paste them into the ChatBot prompt and see if it can help you resove them; but, keep in mind the final point above becasue the ChatBot might not be aware of the state of your objects relative to the code it's producing...\n",
    "\n",
    "</details><br>"
   ]
  },
  {
   "cell_type": "markdown",
   "id": "d05e787e",
   "metadata": {},
   "source": [
    "1. df.dropna() and del df['col'] have similar but different uses.\n",
    "Df.dropna() remvoes rows with missing values but retains all columns whereas del df['col'] removes an entire column of the dataframe regardless of wheater the row contaiend valid data in that column. You would want to use df.dropna() if you wanted to keep all relevant variable columns but only focus on the rows that have complete data across those variables. \n",
    "\n",
    "2. If a specific column is not useful or relevant, contains to many missing values, and if it is easier to drop that column then dealing with its missing values. \n",
    "\n",
    "3. Applying del df['col'] first prevents row deletions based on columns you do not care about. This preserves data that you may actually care about or that is important to the research. Then you can df.dropna() to drop the missing value rows of columns that are lacking important information. This created a much more efficient and easy way to view data.\n"
   ]
  },
  {
   "cell_type": "code",
   "execution_count": 12,
   "id": "6d4eebea",
   "metadata": {},
   "outputs": [
    {
     "data": {
      "text/plain": [
       "Title            0\n",
       "Author           1\n",
       "List Price       1\n",
       "Amazon Price     0\n",
       "Hard_or_Paper    0\n",
       "NumPages         2\n",
       "Publisher        1\n",
       "Pub year         1\n",
       "ISBN-10          0\n",
       "Height           4\n",
       "Width            5\n",
       "Thick            1\n",
       "Weight_oz        9\n",
       "dtype: int64"
      ]
     },
     "execution_count": 12,
     "metadata": {},
     "output_type": "execute_result"
    }
   ],
   "source": [
    "df.isna().sum() #determine where the missing valuess are and what column they are in."
   ]
  },
  {
   "cell_type": "markdown",
   "id": "14c4f372",
   "metadata": {},
   "source": [
    "It would depend what we are doing to the research but lets say the height, width, and weight did not matter to our research. I could then remove those columns are only focus on the other data points."
   ]
  },
  {
   "cell_type": "code",
   "execution_count": 16,
   "id": "0803f048",
   "metadata": {},
   "outputs": [
    {
     "name": "stdout",
     "output_type": "stream",
     "text": [
      "Original dataset shape: (325, 10)\n",
      "Missing values before cleaning:\n",
      "Title            0\n",
      "Author           1\n",
      "List Price       1\n",
      "Amazon Price     0\n",
      "Hard_or_Paper    0\n",
      "NumPages         2\n",
      "Publisher        1\n",
      "Pub year         1\n",
      "ISBN-10          0\n",
      "Thick            1\n",
      "dtype: int64\n"
     ]
    }
   ],
   "source": [
    "original_shape = df.shape\n",
    "print(f\"Original dataset shape: {original_shape}\")\n",
    "\n",
    "missing_values = df.isna().sum()\n",
    "print(f\"Missing values before cleaning:\\n{missing_values}\")"
   ]
  },
  {
   "cell_type": "code",
   "execution_count": 18,
   "id": "c55291f4",
   "metadata": {},
   "outputs": [],
   "source": [
    "if 'Height' in df.columns:\n",
    "    del df['Height']    "
   ]
  },
  {
   "cell_type": "code",
   "execution_count": 19,
   "id": "b397d028",
   "metadata": {},
   "outputs": [],
   "source": [
    "if 'Width' in df.columns:\n",
    "    del df['Width']"
   ]
  },
  {
   "cell_type": "code",
   "execution_count": 20,
   "id": "ffd6b42d",
   "metadata": {},
   "outputs": [],
   "source": [
    "if 'Weight_oz' in df.columns:\n",
    "    del df['Weight_oz']"
   ]
  },
  {
   "cell_type": "code",
   "execution_count": 21,
   "id": "eee30bc4",
   "metadata": {
    "scrolled": true
   },
   "outputs": [
    {
     "name": "stdout",
     "output_type": "stream",
     "text": [
      "New dataset shape after cleaning: (319, 10)\n"
     ]
    }
   ],
   "source": [
    "df_cleaned = df.dropna()\n",
    "cleaned_shape = df_cleaned.shape\n",
    "print(f\"New dataset shape after cleaning: {cleaned_shape}\")"
   ]
  },
  {
   "cell_type": "markdown",
   "id": "e9196fc5",
   "metadata": {},
   "source": [
    "Justifcation: If we were looking at data about why we should buy the book the physical charastics of the book may not be important. So I can remove those data entries and look at everything else about the book. So this new dataset shapes analayzes just thoe values. \n",
    "\n",
    "https://chatgpt.com/share/66e374f7-b1c0-8011-9f26-1e9f8118bc8c"
   ]
  },
  {
   "cell_type": "markdown",
   "id": "e5d258e0",
   "metadata": {},
   "source": [
    "\n",
    "\n",
    "\n",
    "\n",
    "    \n",
    "#### 8. Give brief explanations in your own words for any requested answers to the questions below\n",
    "\n",
    "> This problem will guide you through exploring how to use a ChatBot to troubleshoot code using the \"https://raw.githubusercontent.com/mwaskom/seaborn-data/master/titanic.csv\" data set \n",
    "> \n",
    "> To initialially constrain the scope of the reponses from your ChatBot, start a new ChatBot session with the following slight variation on the initial prompting approach from \"2\" above\n",
    "> - \"I am going to do some initial simple summary analyses on the titanic data set I've downloaded (https://raw.githubusercontent.com/mwaskom/seaborn-data/master/titanic.csv) which has some missing values, and I'd like to get your help understanding the code I'm using and the analysis it's performing\"\n",
    "        \n",
    "1. Use your ChatBot session to understand what `df.groupby(\"col1\")[\"col2\"].describe()` does and then demonstrate and explain this using a different example from the \"titanic\" data set other than what the ChatBot automatically provide for you\n",
    "    \n",
    "> If needed, you can help guide the ChatBot by showing it the code you've used to download the data **AND provide it with the names of the columns** using either a summary of the data with `df.describe()` or just `df.columns` as demonstrated [here](../CHATLOG/COP/00017_copilot_groupby.md)\n",
    "    \n",
    "2. Assuming you've not yet removed missing values in the manner of question \"7\" above, `df.describe()` would have different values in the `count` value for different data columns depending on the missingness present in the original data.  Why do these capture something fundamentally different from the values in the `count` that result from doing something like `df.groupby(\"col1\")[\"col2\"].describe()`?\n",
    "\n",
    "> Questions \"4\" and \"6\" above address how missing values are handled by `df.describe()` (which is reflected in the `count` output of this method); but, `count` in conjunction with `group_by` has another primary function that's more important than addressing missing values (although missing data could still play a role here).\n",
    "\n",
    "3. Intentionally introduce the following errors into your code and report your opinion as to whether it's easier to (a) work in a ChatBot session to fix the errors, or (b) use google to search for and fix errors: first share the errors you get in the ChatBot session and see if you can work with ChatBot to troubleshoot and fix the coding errors, and then see if you think a google search for the error provides the necessary toubleshooting help more quickly than ChatGPT<br><br>\n",
    "    \n",
    "    1. Forget to include `import pandas as pd` in your code \n",
    "       <br> \n",
    "       Use Kernel->Restart from the notebook menu to restart the jupyter notebook session unload imported libraries and start over so you can create this error\n",
    "       <br><br>\n",
    "       When python has an error, it sometimes provides a lot of \"stack trace\" output, but that's not usually very important for troubleshooting. For this problem for example, all you need to share with ChatGPT or search on google is `\"NameError: name 'pd' is not defined\"`<br><br>\n",
    "\n",
    "    2. Mistype \"titanic.csv\" as \"titanics.csv\"\n",
    "       <br> \n",
    "       If ChatBot troubleshooting is based on downloading the file, just replace the whole url with \"titanics.csv\" and try to troubleshoot the subsequent `FileNotFoundError: [Errno 2] No such file or directory: 'titanics.csv'` (assuming the file is indeed not present)\n",
    "       <br><br>\n",
    "       Explore introducing typos into a couple other parts of the url and note the slightly different errors this produces<br><br>\n",
    "      \n",
    "    3. Try to use a dataframe before it's been assigned into the variable\n",
    "       <br> \n",
    "       You can simulate this by just misnaming the variable. For example, if you should write `df.groupby(\"col1\")[\"col2\"].describe()` based on how you loaded the data, then instead write `DF.groupby(\"col1\")[\"col2\"].describe()`\n",
    "       <br><br>\n",
    "       Make sure you've fixed your file name so that's not the error any more<br><br>\n",
    "        \n",
    "    4. Forget one of the parentheses somewhere the code\n",
    "       <br>\n",
    "       For example, if the code should be `pd.read_csv(url)` the change it to `pd.read_csv(url`<br><br>\n",
    "        \n",
    "    5. Mistype one of the names of the chained functions with the code \n",
    "       <br>\n",
    "       For example, try something like `df.group_by(\"col1\")[\"col2\"].describe()` and `df.groupby(\"col1\")[\"col2\"].describle()`<br><br>\n",
    "        \n",
    "    6. Use a column name that's not in your data for the `groupby` and column selection \n",
    "       <br>\n",
    "       For example, try capitalizing the columns for example replacing \"sex\" with \"Sex\" in `titanic_df.groupby(\"sex\")[\"age\"].describe()`, and then instead introducing the same error of \"age\"<br><br>\n",
    "        \n",
    "    7. Forget to put the column name as a string in quotes for the `groupby` and column selection, and see if the ChatBot and google are still as helpful as they were for the previous question\n",
    "       <br>\n",
    "       For example, something like `titanic_df.groupby(sex)[\"age\"].describe()`, and then `titanic_df.groupby(\"sex\")[age].describe()`\n",
    "        \n"
   ]
  },
  {
   "cell_type": "code",
   "execution_count": 4,
   "id": "7c249753",
   "metadata": {},
   "outputs": [],
   "source": [
    "import pandas as pd \n",
    "url = \"https://raw.githubusercontent.com/mwaskom/seaborn-data/master/titanic.csv\"\n",
    "df = pd.read_csv(url)"
   ]
  },
  {
   "cell_type": "code",
   "execution_count": 29,
   "id": "9c3edb91",
   "metadata": {},
   "outputs": [
    {
     "name": "stdout",
     "output_type": "stream",
     "text": [
      "     survived  pclass     sex   age  sibsp  parch     fare embarked   class  \\\n",
      "0           0       3    male  22.0      1      0   7.2500        S   Third   \n",
      "1           1       1  female  38.0      1      0  71.2833        C   First   \n",
      "2           1       3  female  26.0      0      0   7.9250        S   Third   \n",
      "3           1       1  female  35.0      1      0  53.1000        S   First   \n",
      "4           0       3    male  35.0      0      0   8.0500        S   Third   \n",
      "..        ...     ...     ...   ...    ...    ...      ...      ...     ...   \n",
      "886         0       2    male  27.0      0      0  13.0000        S  Second   \n",
      "887         1       1  female  19.0      0      0  30.0000        S   First   \n",
      "888         0       3  female   NaN      1      2  23.4500        S   Third   \n",
      "889         1       1    male  26.0      0      0  30.0000        C   First   \n",
      "890         0       3    male  32.0      0      0   7.7500        Q   Third   \n",
      "\n",
      "       who  adult_male deck  embark_town alive  alone  \n",
      "0      man        True  NaN  Southampton    no  False  \n",
      "1    woman       False    C    Cherbourg   yes  False  \n",
      "2    woman       False  NaN  Southampton   yes   True  \n",
      "3    woman       False    C  Southampton   yes  False  \n",
      "4      man        True  NaN  Southampton    no   True  \n",
      "..     ...         ...  ...          ...   ...    ...  \n",
      "886    man        True  NaN  Southampton    no   True  \n",
      "887  woman       False    B  Southampton   yes   True  \n",
      "888  woman       False  NaN  Southampton    no  False  \n",
      "889    man        True    C    Cherbourg   yes   True  \n",
      "890    man        True  NaN   Queenstown    no   True  \n",
      "\n",
      "[891 rows x 15 columns]\n"
     ]
    }
   ],
   "source": [
    "print(df)"
   ]
  },
  {
   "cell_type": "code",
   "execution_count": 24,
   "id": "d98690eb",
   "metadata": {},
   "outputs": [
    {
     "data": {
      "text/html": [
       "<div>\n",
       "<style scoped>\n",
       "    .dataframe tbody tr th:only-of-type {\n",
       "        vertical-align: middle;\n",
       "    }\n",
       "\n",
       "    .dataframe tbody tr th {\n",
       "        vertical-align: top;\n",
       "    }\n",
       "\n",
       "    .dataframe thead th {\n",
       "        text-align: right;\n",
       "    }\n",
       "</style>\n",
       "<table border=\"1\" class=\"dataframe\">\n",
       "  <thead>\n",
       "    <tr style=\"text-align: right;\">\n",
       "      <th></th>\n",
       "      <th>survived</th>\n",
       "      <th>pclass</th>\n",
       "      <th>age</th>\n",
       "      <th>sibsp</th>\n",
       "      <th>parch</th>\n",
       "      <th>fare</th>\n",
       "    </tr>\n",
       "  </thead>\n",
       "  <tbody>\n",
       "    <tr>\n",
       "      <th>count</th>\n",
       "      <td>891.000000</td>\n",
       "      <td>891.000000</td>\n",
       "      <td>714.000000</td>\n",
       "      <td>891.000000</td>\n",
       "      <td>891.000000</td>\n",
       "      <td>891.000000</td>\n",
       "    </tr>\n",
       "    <tr>\n",
       "      <th>mean</th>\n",
       "      <td>0.383838</td>\n",
       "      <td>2.308642</td>\n",
       "      <td>29.699118</td>\n",
       "      <td>0.523008</td>\n",
       "      <td>0.381594</td>\n",
       "      <td>32.204208</td>\n",
       "    </tr>\n",
       "    <tr>\n",
       "      <th>std</th>\n",
       "      <td>0.486592</td>\n",
       "      <td>0.836071</td>\n",
       "      <td>14.526497</td>\n",
       "      <td>1.102743</td>\n",
       "      <td>0.806057</td>\n",
       "      <td>49.693429</td>\n",
       "    </tr>\n",
       "    <tr>\n",
       "      <th>min</th>\n",
       "      <td>0.000000</td>\n",
       "      <td>1.000000</td>\n",
       "      <td>0.420000</td>\n",
       "      <td>0.000000</td>\n",
       "      <td>0.000000</td>\n",
       "      <td>0.000000</td>\n",
       "    </tr>\n",
       "    <tr>\n",
       "      <th>25%</th>\n",
       "      <td>0.000000</td>\n",
       "      <td>2.000000</td>\n",
       "      <td>20.125000</td>\n",
       "      <td>0.000000</td>\n",
       "      <td>0.000000</td>\n",
       "      <td>7.910400</td>\n",
       "    </tr>\n",
       "    <tr>\n",
       "      <th>50%</th>\n",
       "      <td>0.000000</td>\n",
       "      <td>3.000000</td>\n",
       "      <td>28.000000</td>\n",
       "      <td>0.000000</td>\n",
       "      <td>0.000000</td>\n",
       "      <td>14.454200</td>\n",
       "    </tr>\n",
       "    <tr>\n",
       "      <th>75%</th>\n",
       "      <td>1.000000</td>\n",
       "      <td>3.000000</td>\n",
       "      <td>38.000000</td>\n",
       "      <td>1.000000</td>\n",
       "      <td>0.000000</td>\n",
       "      <td>31.000000</td>\n",
       "    </tr>\n",
       "    <tr>\n",
       "      <th>max</th>\n",
       "      <td>1.000000</td>\n",
       "      <td>3.000000</td>\n",
       "      <td>80.000000</td>\n",
       "      <td>8.000000</td>\n",
       "      <td>6.000000</td>\n",
       "      <td>512.329200</td>\n",
       "    </tr>\n",
       "  </tbody>\n",
       "</table>\n",
       "</div>"
      ],
      "text/plain": [
       "         survived      pclass         age       sibsp       parch        fare\n",
       "count  891.000000  891.000000  714.000000  891.000000  891.000000  891.000000\n",
       "mean     0.383838    2.308642   29.699118    0.523008    0.381594   32.204208\n",
       "std      0.486592    0.836071   14.526497    1.102743    0.806057   49.693429\n",
       "min      0.000000    1.000000    0.420000    0.000000    0.000000    0.000000\n",
       "25%      0.000000    2.000000   20.125000    0.000000    0.000000    7.910400\n",
       "50%      0.000000    3.000000   28.000000    0.000000    0.000000   14.454200\n",
       "75%      1.000000    3.000000   38.000000    1.000000    0.000000   31.000000\n",
       "max      1.000000    3.000000   80.000000    8.000000    6.000000  512.329200"
      ]
     },
     "execution_count": 24,
     "metadata": {},
     "output_type": "execute_result"
    }
   ],
   "source": [
    "df.describe()"
   ]
  },
  {
   "cell_type": "code",
   "execution_count": 25,
   "id": "c1e5d402",
   "metadata": {},
   "outputs": [
    {
     "data": {
      "text/plain": [
       "Index(['survived', 'pclass', 'sex', 'age', 'sibsp', 'parch', 'fare',\n",
       "       'embarked', 'class', 'who', 'adult_male', 'deck', 'embark_town',\n",
       "       'alive', 'alone'],\n",
       "      dtype='object')"
      ]
     },
     "execution_count": 25,
     "metadata": {},
     "output_type": "execute_result"
    }
   ],
   "source": [
    "df.columns"
   ]
  },
  {
   "cell_type": "code",
   "execution_count": 26,
   "id": "ffa0db77",
   "metadata": {
    "scrolled": true
   },
   "outputs": [
    {
     "name": "stdout",
     "output_type": "stream",
     "text": [
      "        count       mean        std  min       25%      50%   75%       max\n",
      "pclass                                                                     \n",
      "1       216.0  84.154687  78.380373  0.0  30.92395  60.2875  93.5  512.3292\n",
      "2       184.0  20.662183  13.417399  0.0  13.00000  14.2500  26.0   73.5000\n",
      "3       491.0  13.675550  11.778142  0.0   7.75000   8.0500  15.5   69.5500\n"
     ]
    }
   ],
   "source": [
    "grouped_describe = df.groupby(\"pclass\")[\"fare\"].describe()\n",
    "\n",
    "print(grouped_describe)"
   ]
  },
  {
   "cell_type": "markdown",
   "id": "3fb1e0cf",
   "metadata": {},
   "source": [
    "The above code would descrbie the data set by looking at the survived being (1 true or 0 false) and then creating a group for each. So group 0 not survived and group 1 survived. Then the age column looks at what age each person was in these grouping."
   ]
  },
  {
   "cell_type": "markdown",
   "id": "047fbec9",
   "metadata": {},
   "source": [
    "Question 8. 2:\n",
    "The count in df.describe() provides a summary statistics for all numeric columns in the DF. It represents the number of non-null entries for each comlumn.\n",
    "Whereas in df.groupby(\"col1\")[\"col2\"].describe() is represents the number of non-null entries within the group defined by column 1. Giving us the number of non-null values exist for col 2 in each caterogry of col1. "
   ]
  },
  {
   "cell_type": "markdown",
   "id": "6c8e8db9",
   "metadata": {},
   "source": [
    "Question 8. 3: A: It is quicker to chatbot the solution. Took me about 20 seconds.\n",
    "\n",
    "B: It was quicker for me to use the chatbot, though it did have the prior chatlogs from the previous questions so that may have assisted with its answer.\n",
    "\n"
   ]
  },
  {
   "cell_type": "code",
   "execution_count": 5,
   "id": "4c373876",
   "metadata": {},
   "outputs": [
    {
     "ename": "NameError",
     "evalue": "name 'DF' is not defined",
     "output_type": "error",
     "traceback": [
      "\u001b[0;31m---------------------------------------------------------------------------\u001b[0m",
      "\u001b[0;31mNameError\u001b[0m                                 Traceback (most recent call last)",
      "Cell \u001b[0;32mIn[5], line 1\u001b[0m\n\u001b[0;32m----> 1\u001b[0m grouped_describe \u001b[38;5;241m=\u001b[39m \u001b[43mDF\u001b[49m\u001b[38;5;241m.\u001b[39mgroupby(\u001b[38;5;124m\"\u001b[39m\u001b[38;5;124msurvived\u001b[39m\u001b[38;5;124m\"\u001b[39m)[\u001b[38;5;124m\"\u001b[39m\u001b[38;5;124mage\u001b[39m\u001b[38;5;124m\"\u001b[39m]\u001b[38;5;241m.\u001b[39mdescribe()\n\u001b[1;32m      3\u001b[0m \u001b[38;5;28mprint\u001b[39m(grouped_describe)\n",
      "\u001b[0;31mNameError\u001b[0m: name 'DF' is not defined"
     ]
    }
   ],
   "source": [
    "grouped_describe = DF.groupby(\"survived\")[\"age\"].describe()\n",
    "\n",
    "print(grouped_describe)"
   ]
  },
  {
   "cell_type": "code",
   "execution_count": 6,
   "id": "939b1a2b",
   "metadata": {},
   "outputs": [
    {
     "name": "stdout",
     "output_type": "stream",
     "text": [
      "          count       mean        std   min   25%   50%   75%   max\n",
      "survived                                                           \n",
      "0         424.0  30.626179  14.172110  1.00  21.0  28.0  39.0  74.0\n",
      "1         290.0  28.343690  14.950952  0.42  19.0  28.0  36.0  80.0\n"
     ]
    }
   ],
   "source": [
    "grouped_describe = df.groupby(\"survived\")[\"age\"].describe()\n",
    "\n",
    "print(grouped_describe) #C it was quicker for me to chatbot the answer"
   ]
  },
  {
   "cell_type": "code",
   "execution_count": 28,
   "id": "8bf6942c",
   "metadata": {
    "scrolled": true
   },
   "outputs": [
    {
     "name": "stdout",
     "output_type": "stream",
     "text": [
      "          count       mean        std   min   25%   50%   75%   max\n",
      "survived                                                           \n",
      "0         424.0  30.626179  14.172110  1.00  21.0  28.0  39.0  74.0\n",
      "1         290.0  28.343690  14.950952  0.42  19.0  28.0  36.0  80.0\n"
     ]
    }
   ],
   "source": [
    "grouped_describe = df.groupby(\"survived\")[\"age\"].describe()\n",
    "\n",
    "print(grouped_describe)"
   ]
  },
  {
   "cell_type": "code",
   "execution_count": 7,
   "id": "13a728bd",
   "metadata": {
    "scrolled": true
   },
   "outputs": [
    {
     "ename": "SyntaxError",
     "evalue": "'(' was never closed (2303167821.py, line 1)",
     "output_type": "error",
     "traceback": [
      "\u001b[0;36m  Cell \u001b[0;32mIn[7], line 1\u001b[0;36m\u001b[0m\n\u001b[0;31m    grouped_describe = df.groupby(\"survived\"[\"age\"].describe()\u001b[0m\n\u001b[0m                                 ^\u001b[0m\n\u001b[0;31mSyntaxError\u001b[0m\u001b[0;31m:\u001b[0m '(' was never closed\n"
     ]
    }
   ],
   "source": [
    "grouped_describe = df.groupby(\"survived\"[\"age\"].describe()\n",
    "\n",
    "print(grouped_describe)"
   ]
  },
  {
   "cell_type": "code",
   "execution_count": 8,
   "id": "751838a5",
   "metadata": {
    "scrolled": false
   },
   "outputs": [
    {
     "name": "stdout",
     "output_type": "stream",
     "text": [
      "          count       mean        std   min   25%   50%   75%   max\n",
      "survived                                                           \n",
      "0         424.0  30.626179  14.172110  1.00  21.0  28.0  39.0  74.0\n",
      "1         290.0  28.343690  14.950952  0.42  19.0  28.0  36.0  80.0\n"
     ]
    }
   ],
   "source": [
    "grouped_describe = df.groupby(\"survived\")[\"age\"].describe()\n",
    "\n",
    "print(grouped_describe) #the chatbot provided a easy solution"
   ]
  },
  {
   "cell_type": "code",
   "execution_count": 10,
   "id": "e5105b8a",
   "metadata": {
    "scrolled": true
   },
   "outputs": [
    {
     "ename": "AttributeError",
     "evalue": "'SeriesGroupBy' object has no attribute 'describle'",
     "output_type": "error",
     "traceback": [
      "\u001b[0;31m---------------------------------------------------------------------------\u001b[0m",
      "\u001b[0;31mAttributeError\u001b[0m                            Traceback (most recent call last)",
      "Cell \u001b[0;32mIn[10], line 1\u001b[0m\n\u001b[0;32m----> 1\u001b[0m \u001b[43mdf\u001b[49m\u001b[38;5;241;43m.\u001b[39;49m\u001b[43mgroupby\u001b[49m\u001b[43m(\u001b[49m\u001b[38;5;124;43m\"\u001b[39;49m\u001b[38;5;124;43msurvived\u001b[39;49m\u001b[38;5;124;43m\"\u001b[39;49m\u001b[43m)\u001b[49m\u001b[43m[\u001b[49m\u001b[38;5;124;43m\"\u001b[39;49m\u001b[38;5;124;43mage\u001b[39;49m\u001b[38;5;124;43m\"\u001b[39;49m\u001b[43m]\u001b[49m\u001b[38;5;241;43m.\u001b[39;49m\u001b[43mdescrible\u001b[49m()\n",
      "File \u001b[0;32m/opt/conda/lib/python3.11/site-packages/pandas/core/groupby/groupby.py:1312\u001b[0m, in \u001b[0;36mGroupBy.__getattr__\u001b[0;34m(self, attr)\u001b[0m\n\u001b[1;32m   1309\u001b[0m \u001b[38;5;28;01mif\u001b[39;00m attr \u001b[38;5;129;01min\u001b[39;00m \u001b[38;5;28mself\u001b[39m\u001b[38;5;241m.\u001b[39mobj:\n\u001b[1;32m   1310\u001b[0m     \u001b[38;5;28;01mreturn\u001b[39;00m \u001b[38;5;28mself\u001b[39m[attr]\n\u001b[0;32m-> 1312\u001b[0m \u001b[38;5;28;01mraise\u001b[39;00m \u001b[38;5;167;01mAttributeError\u001b[39;00m(\n\u001b[1;32m   1313\u001b[0m     \u001b[38;5;124mf\u001b[39m\u001b[38;5;124m\"\u001b[39m\u001b[38;5;124m'\u001b[39m\u001b[38;5;132;01m{\u001b[39;00m\u001b[38;5;28mtype\u001b[39m(\u001b[38;5;28mself\u001b[39m)\u001b[38;5;241m.\u001b[39m\u001b[38;5;18m__name__\u001b[39m\u001b[38;5;132;01m}\u001b[39;00m\u001b[38;5;124m'\u001b[39m\u001b[38;5;124m object has no attribute \u001b[39m\u001b[38;5;124m'\u001b[39m\u001b[38;5;132;01m{\u001b[39;00mattr\u001b[38;5;132;01m}\u001b[39;00m\u001b[38;5;124m'\u001b[39m\u001b[38;5;124m\"\u001b[39m\n\u001b[1;32m   1314\u001b[0m )\n",
      "\u001b[0;31mAttributeError\u001b[0m: 'SeriesGroupBy' object has no attribute 'describle'"
     ]
    }
   ],
   "source": [
    "df.groupby(\"survived\")[\"age\"].describle()"
   ]
  },
  {
   "cell_type": "code",
   "execution_count": 11,
   "id": "d9a8c121",
   "metadata": {},
   "outputs": [],
   "source": [
    "grouped_describe = df.groupby(\"survived\")[\"age\"].describe() #chatbot found mistake and fixed it"
   ]
  },
  {
   "cell_type": "code",
   "execution_count": 12,
   "id": "0cc8db98",
   "metadata": {},
   "outputs": [
    {
     "ename": "KeyError",
     "evalue": "'superhero'",
     "output_type": "error",
     "traceback": [
      "\u001b[0;31m---------------------------------------------------------------------------\u001b[0m",
      "\u001b[0;31mKeyError\u001b[0m                                  Traceback (most recent call last)",
      "Cell \u001b[0;32mIn[12], line 1\u001b[0m\n\u001b[0;32m----> 1\u001b[0m \u001b[43mdf\u001b[49m\u001b[38;5;241;43m.\u001b[39;49m\u001b[43mgroupby\u001b[49m\u001b[43m(\u001b[49m\u001b[38;5;124;43m\"\u001b[39;49m\u001b[38;5;124;43msuperhero\u001b[39;49m\u001b[38;5;124;43m\"\u001b[39;49m\u001b[43m)\u001b[49m[\u001b[38;5;124m\"\u001b[39m\u001b[38;5;124mage\u001b[39m\u001b[38;5;124m\"\u001b[39m]\u001b[38;5;241m.\u001b[39mdescribe()\n",
      "File \u001b[0;32m/opt/conda/lib/python3.11/site-packages/pandas/core/frame.py:8869\u001b[0m, in \u001b[0;36mDataFrame.groupby\u001b[0;34m(self, by, axis, level, as_index, sort, group_keys, observed, dropna)\u001b[0m\n\u001b[1;32m   8866\u001b[0m \u001b[38;5;28;01mif\u001b[39;00m level \u001b[38;5;129;01mis\u001b[39;00m \u001b[38;5;28;01mNone\u001b[39;00m \u001b[38;5;129;01mand\u001b[39;00m by \u001b[38;5;129;01mis\u001b[39;00m \u001b[38;5;28;01mNone\u001b[39;00m:\n\u001b[1;32m   8867\u001b[0m     \u001b[38;5;28;01mraise\u001b[39;00m \u001b[38;5;167;01mTypeError\u001b[39;00m(\u001b[38;5;124m\"\u001b[39m\u001b[38;5;124mYou have to supply one of \u001b[39m\u001b[38;5;124m'\u001b[39m\u001b[38;5;124mby\u001b[39m\u001b[38;5;124m'\u001b[39m\u001b[38;5;124m and \u001b[39m\u001b[38;5;124m'\u001b[39m\u001b[38;5;124mlevel\u001b[39m\u001b[38;5;124m'\u001b[39m\u001b[38;5;124m\"\u001b[39m)\n\u001b[0;32m-> 8869\u001b[0m \u001b[38;5;28;01mreturn\u001b[39;00m \u001b[43mDataFrameGroupBy\u001b[49m\u001b[43m(\u001b[49m\n\u001b[1;32m   8870\u001b[0m \u001b[43m    \u001b[49m\u001b[43mobj\u001b[49m\u001b[38;5;241;43m=\u001b[39;49m\u001b[38;5;28;43mself\u001b[39;49m\u001b[43m,\u001b[49m\n\u001b[1;32m   8871\u001b[0m \u001b[43m    \u001b[49m\u001b[43mkeys\u001b[49m\u001b[38;5;241;43m=\u001b[39;49m\u001b[43mby\u001b[49m\u001b[43m,\u001b[49m\n\u001b[1;32m   8872\u001b[0m \u001b[43m    \u001b[49m\u001b[43maxis\u001b[49m\u001b[38;5;241;43m=\u001b[39;49m\u001b[43maxis\u001b[49m\u001b[43m,\u001b[49m\n\u001b[1;32m   8873\u001b[0m \u001b[43m    \u001b[49m\u001b[43mlevel\u001b[49m\u001b[38;5;241;43m=\u001b[39;49m\u001b[43mlevel\u001b[49m\u001b[43m,\u001b[49m\n\u001b[1;32m   8874\u001b[0m \u001b[43m    \u001b[49m\u001b[43mas_index\u001b[49m\u001b[38;5;241;43m=\u001b[39;49m\u001b[43mas_index\u001b[49m\u001b[43m,\u001b[49m\n\u001b[1;32m   8875\u001b[0m \u001b[43m    \u001b[49m\u001b[43msort\u001b[49m\u001b[38;5;241;43m=\u001b[39;49m\u001b[43msort\u001b[49m\u001b[43m,\u001b[49m\n\u001b[1;32m   8876\u001b[0m \u001b[43m    \u001b[49m\u001b[43mgroup_keys\u001b[49m\u001b[38;5;241;43m=\u001b[39;49m\u001b[43mgroup_keys\u001b[49m\u001b[43m,\u001b[49m\n\u001b[1;32m   8877\u001b[0m \u001b[43m    \u001b[49m\u001b[43mobserved\u001b[49m\u001b[38;5;241;43m=\u001b[39;49m\u001b[43mobserved\u001b[49m\u001b[43m,\u001b[49m\n\u001b[1;32m   8878\u001b[0m \u001b[43m    \u001b[49m\u001b[43mdropna\u001b[49m\u001b[38;5;241;43m=\u001b[39;49m\u001b[43mdropna\u001b[49m\u001b[43m,\u001b[49m\n\u001b[1;32m   8879\u001b[0m \u001b[43m\u001b[49m\u001b[43m)\u001b[49m\n",
      "File \u001b[0;32m/opt/conda/lib/python3.11/site-packages/pandas/core/groupby/groupby.py:1278\u001b[0m, in \u001b[0;36mGroupBy.__init__\u001b[0;34m(self, obj, keys, axis, level, grouper, exclusions, selection, as_index, sort, group_keys, observed, dropna)\u001b[0m\n\u001b[1;32m   1275\u001b[0m \u001b[38;5;28mself\u001b[39m\u001b[38;5;241m.\u001b[39mdropna \u001b[38;5;241m=\u001b[39m dropna\n\u001b[1;32m   1277\u001b[0m \u001b[38;5;28;01mif\u001b[39;00m grouper \u001b[38;5;129;01mis\u001b[39;00m \u001b[38;5;28;01mNone\u001b[39;00m:\n\u001b[0;32m-> 1278\u001b[0m     grouper, exclusions, obj \u001b[38;5;241m=\u001b[39m \u001b[43mget_grouper\u001b[49m\u001b[43m(\u001b[49m\n\u001b[1;32m   1279\u001b[0m \u001b[43m        \u001b[49m\u001b[43mobj\u001b[49m\u001b[43m,\u001b[49m\n\u001b[1;32m   1280\u001b[0m \u001b[43m        \u001b[49m\u001b[43mkeys\u001b[49m\u001b[43m,\u001b[49m\n\u001b[1;32m   1281\u001b[0m \u001b[43m        \u001b[49m\u001b[43maxis\u001b[49m\u001b[38;5;241;43m=\u001b[39;49m\u001b[43maxis\u001b[49m\u001b[43m,\u001b[49m\n\u001b[1;32m   1282\u001b[0m \u001b[43m        \u001b[49m\u001b[43mlevel\u001b[49m\u001b[38;5;241;43m=\u001b[39;49m\u001b[43mlevel\u001b[49m\u001b[43m,\u001b[49m\n\u001b[1;32m   1283\u001b[0m \u001b[43m        \u001b[49m\u001b[43msort\u001b[49m\u001b[38;5;241;43m=\u001b[39;49m\u001b[43msort\u001b[49m\u001b[43m,\u001b[49m\n\u001b[1;32m   1284\u001b[0m \u001b[43m        \u001b[49m\u001b[43mobserved\u001b[49m\u001b[38;5;241;43m=\u001b[39;49m\u001b[38;5;28;43;01mFalse\u001b[39;49;00m\u001b[43m \u001b[49m\u001b[38;5;28;43;01mif\u001b[39;49;00m\u001b[43m \u001b[49m\u001b[43mobserved\u001b[49m\u001b[43m \u001b[49m\u001b[38;5;129;43;01mis\u001b[39;49;00m\u001b[43m \u001b[49m\u001b[43mlib\u001b[49m\u001b[38;5;241;43m.\u001b[39;49m\u001b[43mno_default\u001b[49m\u001b[43m \u001b[49m\u001b[38;5;28;43;01melse\u001b[39;49;00m\u001b[43m \u001b[49m\u001b[43mobserved\u001b[49m\u001b[43m,\u001b[49m\n\u001b[1;32m   1285\u001b[0m \u001b[43m        \u001b[49m\u001b[43mdropna\u001b[49m\u001b[38;5;241;43m=\u001b[39;49m\u001b[38;5;28;43mself\u001b[39;49m\u001b[38;5;241;43m.\u001b[39;49m\u001b[43mdropna\u001b[49m\u001b[43m,\u001b[49m\n\u001b[1;32m   1286\u001b[0m \u001b[43m    \u001b[49m\u001b[43m)\u001b[49m\n\u001b[1;32m   1288\u001b[0m \u001b[38;5;28;01mif\u001b[39;00m observed \u001b[38;5;129;01mis\u001b[39;00m lib\u001b[38;5;241m.\u001b[39mno_default:\n\u001b[1;32m   1289\u001b[0m     \u001b[38;5;28;01mif\u001b[39;00m \u001b[38;5;28many\u001b[39m(ping\u001b[38;5;241m.\u001b[39m_passed_categorical \u001b[38;5;28;01mfor\u001b[39;00m ping \u001b[38;5;129;01min\u001b[39;00m grouper\u001b[38;5;241m.\u001b[39mgroupings):\n",
      "File \u001b[0;32m/opt/conda/lib/python3.11/site-packages/pandas/core/groupby/grouper.py:1009\u001b[0m, in \u001b[0;36mget_grouper\u001b[0;34m(obj, key, axis, level, sort, observed, validate, dropna)\u001b[0m\n\u001b[1;32m   1007\u001b[0m         in_axis, level, gpr \u001b[38;5;241m=\u001b[39m \u001b[38;5;28;01mFalse\u001b[39;00m, gpr, \u001b[38;5;28;01mNone\u001b[39;00m\n\u001b[1;32m   1008\u001b[0m     \u001b[38;5;28;01melse\u001b[39;00m:\n\u001b[0;32m-> 1009\u001b[0m         \u001b[38;5;28;01mraise\u001b[39;00m \u001b[38;5;167;01mKeyError\u001b[39;00m(gpr)\n\u001b[1;32m   1010\u001b[0m \u001b[38;5;28;01melif\u001b[39;00m \u001b[38;5;28misinstance\u001b[39m(gpr, Grouper) \u001b[38;5;129;01mand\u001b[39;00m gpr\u001b[38;5;241m.\u001b[39mkey \u001b[38;5;129;01mis\u001b[39;00m \u001b[38;5;129;01mnot\u001b[39;00m \u001b[38;5;28;01mNone\u001b[39;00m:\n\u001b[1;32m   1011\u001b[0m     \u001b[38;5;66;03m# Add key to exclusions\u001b[39;00m\n\u001b[1;32m   1012\u001b[0m     exclusions\u001b[38;5;241m.\u001b[39madd(gpr\u001b[38;5;241m.\u001b[39mkey)\n",
      "\u001b[0;31mKeyError\u001b[0m: 'superhero'"
     ]
    }
   ],
   "source": [
    "df.groupby(\"superhero\")[\"age\"].describe()"
   ]
  },
  {
   "cell_type": "markdown",
   "id": "5da8207e",
   "metadata": {},
   "source": [
    "Gave me a answer saying that superheros was not defined in my columns and instead to replace it with one that was."
   ]
  },
  {
   "cell_type": "code",
   "execution_count": 15,
   "id": "4ebb7099",
   "metadata": {},
   "outputs": [
    {
     "ename": "NameError",
     "evalue": "name 'age' is not defined",
     "output_type": "error",
     "traceback": [
      "\u001b[0;31m---------------------------------------------------------------------------\u001b[0m",
      "\u001b[0;31mNameError\u001b[0m                                 Traceback (most recent call last)",
      "Cell \u001b[0;32mIn[15], line 1\u001b[0m\n\u001b[0;32m----> 1\u001b[0m grouped_describe \u001b[38;5;241m=\u001b[39m df\u001b[38;5;241m.\u001b[39mgroupby(\u001b[38;5;124m\"\u001b[39m\u001b[38;5;124msurvived\u001b[39m\u001b[38;5;124m\"\u001b[39m)[\u001b[43mage\u001b[49m]\u001b[38;5;241m.\u001b[39mdescribe()\n\u001b[1;32m      3\u001b[0m \u001b[38;5;28mprint\u001b[39m(grouped_describe)\n",
      "\u001b[0;31mNameError\u001b[0m: name 'age' is not defined"
     ]
    }
   ],
   "source": [
    "grouped_describe = df.groupby(\"survived\")[age].describe()\n",
    "\n",
    "print(grouped_describe)"
   ]
  },
  {
   "cell_type": "code",
   "execution_count": 16,
   "id": "c5b66141",
   "metadata": {},
   "outputs": [
    {
     "name": "stdout",
     "output_type": "stream",
     "text": [
      "          count       mean        std   min   25%   50%   75%   max\n",
      "survived                                                           \n",
      "0         424.0  30.626179  14.172110  1.00  21.0  28.0  39.0  74.0\n",
      "1         290.0  28.343690  14.950952  0.42  19.0  28.0  36.0  80.0\n"
     ]
    }
   ],
   "source": [
    "grouped_describe = df.groupby(\"survived\")[\"age\"].describe()\n",
    "\n",
    "print(grouped_describe) #gave me the correct code and educated me that age should be a string representing a column name."
   ]
  },
  {
   "cell_type": "markdown",
   "id": "56398aa4",
   "metadata": {},
   "source": [
    "https://chatgpt.com/share/66e37f44-2eec-8011-8c31-5c37d6376d75"
   ]
  },
  {
   "cell_type": "markdown",
   "id": "87f74e2b",
   "metadata": {},
   "source": [
    "#### 9. Have you reviewed the course [wiki-textbook](https://github.com/pointOfive/stat130chat130/wiki) and interacted with a ChatBot (or, if that wasn't sufficient, real people in the course piazza discussion board or TA office hours) to help you understand all the material in the tutorial and lecture that you didn't quite follow when you first saw it?<br>\n",
    "    \n",
    "<details class=\"details-example\"><summary style=\"color:blue\"><u>Further Guidance</u></summary>\n",
    "\n",
    "> Just answering \"Yes\" or \"No\" or \"Somewhat\" or \"Mostly\" or whatever here is fine as this question isn't a part of the rubric; but, the midterm and final exams may ask questions that are based on the tutorial and lecture materials; and, your own skills will be limited by your familiarity with these materials (which will determine your ability to actually do actual things effectively with these skills... like the course project...)\n",
    "    \n",
    "</details>\n",
    "    \n",
    "***Don't forget to ask for summaries of your ChatBot session(s) and paste these into your homework notebook (including link(s) to chat log histories if you're using ChatGPT)!***"
   ]
  },
  {
   "cell_type": "markdown",
   "id": "8ce11ef1",
   "metadata": {},
   "source": [
    "# Recommended Additional Useful Activities [Optional]\n",
    "\n",
    "The \"Ethical Profesionalism Considerations\" and \"Current Course Project Capability Level\" sections below **are not a part of the required homework assignment**; rather, they are regular weekly guides covering (a) relevant considerations regarding professional and ethical conduct, and (b) the analysis steps for the STA130 course project that are feasible at the current stage of the course<br><br>\n",
    "\n",
    "<details class=\"details-example\"><summary style=\"color:blue\"><u>Ethical Professionalism Considerations</u></summary>\n",
    "\n",
    "## Ethical Professionalism Considerations\n",
    "\n",
    "> If the observed data is \"no events occured\" does this mean the data is \"missing\" and [should be ignored](https://priceonomics.com/the-space-shuttle-challenger-explosion-and-the-o)?\n",
    "> \n",
    "> - NASA: \\<determines temperature doesn't affects \"o-ring\" by subseting data to just \"o-ring\" incidents\\>\n",
    "> - Also NASA: \\<launches the shuttle on a cold day\\>\n",
    "\n",
    "|No apparent \"o-ring\" failure and temperature relationship|Apparent between \"o-ring\" failure and temperature relationship|\n",
    "|:-|:-|\n",
    "if you just look at \"o-ring\" failure event data|if you instead look at ALL the data as you should|\n",
    "|![](https://etzq49yfnmd.exactdn.com/wp-content/uploads/2022/03/image06-14.png)|![](https://etzq49yfnmd.exactdn.com/wp-content/uploads/2022/03/image02-33.png)|\n",
    "|![](https://upload.wikimedia.org/wikipedia/commons/8/8b/Shuttle_Challenger_explosion.gif?20190203170223)|![](https://i.makeagif.com/media/10-04-2014/nT57xW.gif)|\n",
    "\n",
    "<br>\n",
    "    \n",
    "</details>    \n",
    "\n",
    "<details class=\"details-example\"><summary style=\"color:blue\"><u>Current Course Project Capability Level</u></summary>\n",
    "\n",
    "## Current Course Project Capability Level\n",
    "\n",
    "> The data we'll use for the STA130 course project is based on the [Canadian Social Connection Survey](https://casch.org/cscs). Please see the [data use agreement](https://static1.squarespace.com/static/60283c2e174c122f8ebe0f39/t/6239c284d610f76fed5a2e69/1647952517436/Data+Use+Agreement+for+the+Canadian+Social+Connection+Survey.pdf) regarding the appropriate and ethical professional use of this data (available at the bottom of the [CSCS](https://casch.org/cscs) webpage).\n",
    "> \n",
    "> 1. Have a very quick look at the list of available variables using the [link](https://drive.google.com/file/d/1ISVymGn-WR1lcRs4psIym2N3or5onNBi/view) (again at the bottom of the [CSCS](https://casch.org/cscs) webpage); then, \n",
    "> 2. examine the code in the first thirteen code cells of [STA130F24_CourseProject.ipynb](https://github.com/pointOfive/stat130chat130/blob/main/CP/STA130F24_CourseProject.ipynb) to get an initital understanding of how we might subset to different studies included in the [data](https://drive.google.com/file/d/1mbUQlMTrNYA7Ly5eImVRBn16Ehy9Lggo/view) (again accessible at the bottom of the [CSCS](https://casch.org/cscs) webpage); then,     \n",
    "> 3. review the fourteenth and fifteenth cells (with the comments \"Here's a high level summary of the data\" and \"And here are some explanations about the columns in the data\") a little more closely to get a better sense of which columns seem to be the most interesting and whether or not they seem to have a lot of missing data\n",
    "    \n",
    "</details>        "
   ]
  },
  {
   "cell_type": "markdown",
   "id": "98ca7d22",
   "metadata": {},
   "source": [
    "### Afterward\n",
    "\n",
    "Here are few ideas of some other kinds of interactions you might consider exploring with a ChatBot...\n",
    "\n",
    "> While these are likely to be extremely practically valuable, they are not a part of the homework assignment, so do not include anything related to these in your homework submission\n",
    "\n",
    "- With respect to improving ones ability in statistics, coding, communication, and other key data science skills\n",
    "    - what is the ChatBots perception its own capabilities and uses as an AI-driven assistance tool \n",
    "    - and does ChatBots assessment of itself influence or agree with your own evalution of the ChatBot? \n",
    "\n",
    "- ChatBots can introduce and explain the \"World War 2 planes\" problem and the \"Monte Hall\" problem... \n",
    "    - how well does do they seem to do and introducing and explaining other \"unintuitive surprising statistics paradoxes\"?\n",
    "\n",
    "- If you consider the process of writing about why you chose to take this course, and the skills you were hoping to build through this course with respect to your current ideas about what possible careers \n",
    "    - and how do you think the exercise would be different if you framed it as a dialogue with a ChatBot\n",
    "    - and do you think the difference could be positive and productive, or potentially biasing and distracting?\n",
    "    \n",
    "- ChatBots sometimes immediately responds in simple helpful ways, but other times it gives a lot of extraneous information that can be overwheling... are you able to prompt and interact with ChatBots in manner that keeps its reponses helpful and focused on what you're interested in? \n",
    "\n",
    "- ChatBots tends to respond in a fairly empathetic and supportive tone...\n",
    "    - do you find it helpful to discuss concerns you might have about succeeding in the course (or entering university more generally) with a ChatBot?\n",
    "    \n",
    "- For what purposes and in what contexts do you think a ChatBot could provide suggestions or feedback about your experiences that might be useful? \n"
   ]
  }
 ],
 "metadata": {
  "kernelspec": {
   "display_name": "Python 3 (ipykernel)",
   "language": "python",
   "name": "python3"
  },
  "language_info": {
   "codemirror_mode": {
    "name": "ipython",
    "version": 3
   },
   "file_extension": ".py",
   "mimetype": "text/x-python",
   "name": "python",
   "nbconvert_exporter": "python",
   "pygments_lexer": "ipython3",
   "version": "3.11.6"
  }
 },
 "nbformat": 4,
 "nbformat_minor": 5
}
